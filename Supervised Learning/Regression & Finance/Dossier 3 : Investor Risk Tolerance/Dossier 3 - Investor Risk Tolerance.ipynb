{
 "cells": [
  {
   "cell_type": "markdown",
   "metadata": {},
   "source": [
    "# Risk Profiling and Tolerance for the Investor"
   ]
  },
  {
   "cell_type": "markdown",
   "metadata": {},
   "source": [
    "### A machine learning based Portfolio management process, by cutting the client completely out of the loop.\n",
    "\n",
    "##### - Sidharth Purohit\n",
    "An algorithm to develop a personality profile for the client that\n",
    "would be a better representation of how they would deal with different market\n",
    "scenarios. \n",
    "\n",
    "Studies have shown that the currenlty used **risk tolerance questionnaires** for the Risk Management processes are prone to error, as investors suffer from behavioral biases and are poor judges of their own risk perception, especially during stressed markets. Also, given that these questionnaires must be manually completed by investors, they eliminate the possibility of automating the entire investment management process.\n",
    "\n",
    "The overall purpose is to demonstrate the automation of the manual steps in the portfolio management process with the help of machine learning. Also, using machine learning to quantify and model the behavioral bias of investors/\n",
    "individuals."
   ]
  },
  {
   "cell_type": "markdown",
   "metadata": {},
   "source": [
    "### Problem Statement\n",
    "\n",
    "In the supervised regression framework used for this dossier, the predicted variable is the “true” risk tolerance of an individual, and the predictor variables are demographic, financial, and behavioral attributes of an individual.\n",
    "\n",
    "The data used for this case study is from the Survey of Consumer Finances (SCF), which is conducted by the Federal Reserve Board. The survey includes responses about household demographics, net worth, financial, and nonfinancial assets for the same set of individuals in 2007 (precrisis) and 2009 (postcrisis). This enables us to see\n",
    "how each household’s allocation changed after the 2008 global financial crisis.\n",
    "\n",
    "For this case study the data used is from survey of Consumer Finances which is conducted by the Federal Reserve Board. The data source is : https://www.federalreserve.gov/econres/scf_2009p.htm"
   ]
  },
  {
   "cell_type": "markdown",
   "metadata": {},
   "source": [
    "### Getting started"
   ]
  },
  {
   "cell_type": "code",
   "execution_count": 2,
   "metadata": {},
   "outputs": [
    {
     "name": "stderr",
     "output_type": "stream",
     "text": [
      "C:\\Anaconda2\\envs\\py36\\lib\\site-packages\\statsmodels\\tools\\_testing.py:19: FutureWarning: pandas.util.testing is deprecated. Use the functions in the public API at pandas.testing instead.\n",
      "  import pandas.util.testing as tm\n",
      "Using TensorFlow backend.\n"
     ]
    }
   ],
   "source": [
    "import numpy as np\n",
    "import pandas as pd\n",
    "\n",
    "##import pandas_datareader.data as web\n",
    "import matplotlib.pyplot as plt\n",
    "from pandas.plotting import scatter_matrix\n",
    "import seaborn as sns\n",
    "import copy \n",
    "from sklearn.preprocessing import StandardScaler\n",
    "\n",
    "from sklearn.model_selection import train_test_split\n",
    "from sklearn.model_selection import KFold\n",
    "from sklearn.model_selection import cross_val_score\n",
    "from sklearn.model_selection import GridSearchCV\n",
    "\n",
    "from sklearn.linear_model import LinearRegression\n",
    "from sklearn.linear_model import Lasso\n",
    "from sklearn.linear_model import ElasticNet\n",
    "from sklearn.tree import DecisionTreeRegressor\n",
    "from sklearn.neighbors import KNeighborsRegressor\n",
    "from sklearn.svm import SVR\n",
    "from sklearn.ensemble import RandomForestRegressor\n",
    "from sklearn.ensemble import GradientBoostingRegressor\n",
    "from sklearn.ensemble import ExtraTreesRegressor\n",
    "from sklearn.ensemble import AdaBoostRegressor\n",
    "from sklearn.neural_network import MLPRegressor\n",
    "\n",
    "#Libraries for Deep Learning Models\n",
    "from keras.models import Sequential\n",
    "from keras.layers import Dense\n",
    "from keras.optimizers import SGD\n",
    "from keras.layers import LSTM\n",
    "from keras.wrappers.scikit_learn import KerasRegressor\n",
    "\n",
    "#Libraries for Statistical Models\n",
    "import statsmodels.api as sm\n",
    "\n",
    "#Libraries for Saving the Model\n",
    "from pickle import dump\n",
    "from pickle import load"
   ]
  },
  {
   "cell_type": "code",
   "execution_count": 3,
   "metadata": {},
   "outputs": [],
   "source": [
    "from urllib.parse import urlencode"
   ]
  },
  {
   "cell_type": "code",
   "execution_count": 39,
   "metadata": {},
   "outputs": [],
   "source": [
    "#ignoring all the warnings \n",
    "import warnings\n",
    "warnings.filterwarnings('ignore')"
   ]
  },
  {
   "cell_type": "markdown",
   "metadata": {},
   "source": [
    "#### Preparing the predicted variable\n",
    "\n",
    "The dataset from \"Survey of Consumer Finances\" contains the Household's demographics, net worth, financial and non-financial assets for the same demographics in 2007 (pre-crisis) and 2009(post-crisis).\n",
    "\n",
    "We prepare the predicted variable, which is the **True risk tolerance** in the following steps. There are different ways of getting the \"true\" risk tolerance. The idea and the purpose of this dossier is to come up with an approach to solve the behavioral finance problem using machine learning.\n",
    "\n",
    "The steps to compute the predicted variables are as follows:\n",
    "\n",
    "1) Compute the **Risky asset** and the **Riskless assets** for all the individuals in the survey data. Risky and riskless assets are defined as follows:\n",
    "\n",
    "**Risky assets** is investments in mutual funds, stocks, bonds, commodities, and real estate, and an estimate of human capital.\n",
    "    \n",
    "**Risk Free Assets**: checking and savings balances,certificates of deposit, and other cash balances and equivalents.\n",
    "    \n",
    "**Risk Tolerance** is the ratio of risky assets to total assets of an investor and consider that as a measure of risk tolerance of an investor.\n",
    "    \n",
    "    \n",
    "\n",
    "2) We take the ratio of risky assets to total assets of an investor and consider that as a measure of risk tolerance of an investor. From the data of SCF, we have the data of risky and riskless assets for the individuals for 2007 and 2009. We use this data and normalise the risky assets with the stock price of 2007 vs. 2009 to get risk tolerance.\n",
    "\n",
    "    Risk Tolerance just defined as the ratio of Risky Asset to Riskless Assets normalised with the average S&P500 of 2007 vs 2009. \n",
    "    \n",
    "    Average S&P500 in 2007: 1478\n",
    "    Average S&P500 in 2009: 948\n",
    "\n",
    "3) In a lot of literature, *an intelligent investor is the one who doesn't change its risk tolerance during the change in the market.* So, we consider the investors who change their risk tolerance by less than 10% between 2007 and 2009 as the intelligent investors. Ofcourse this is a qualitative judgement and is subject to change. However, as mentioned before more than being accurate and precise the purpose of this case study is to demonstrate the usage of the machine learning and provide a machine learning based framework in behavioral finance and portfolio management which can be further leveraged for more detailed analysis."
   ]
  },
  {
   "cell_type": "code",
   "execution_count": 4,
   "metadata": {},
   "outputs": [],
   "source": [
    "dataset = pd.read_excel('SCFP2009panel.xlsx')"
   ]
  },
  {
   "cell_type": "code",
   "execution_count": 5,
   "metadata": {},
   "outputs": [
    {
     "data": {
      "text/html": [
       "<div>\n",
       "<style scoped>\n",
       "    .dataframe tbody tr th:only-of-type {\n",
       "        vertical-align: middle;\n",
       "    }\n",
       "\n",
       "    .dataframe tbody tr th {\n",
       "        vertical-align: top;\n",
       "    }\n",
       "\n",
       "    .dataframe thead th {\n",
       "        text-align: right;\n",
       "    }\n",
       "</style>\n",
       "<table border=\"1\" class=\"dataframe\">\n",
       "  <thead>\n",
       "    <tr style=\"text-align: right;\">\n",
       "      <th></th>\n",
       "      <th>YY1</th>\n",
       "      <th>Y1</th>\n",
       "      <th>WGT09</th>\n",
       "      <th>AGE07</th>\n",
       "      <th>AGECL07</th>\n",
       "      <th>EDUC07</th>\n",
       "      <th>EDCL07</th>\n",
       "      <th>MARRIED07</th>\n",
       "      <th>KIDS07</th>\n",
       "      <th>LIFECL07</th>\n",
       "      <th>...</th>\n",
       "      <th>NHMORTPCT</th>\n",
       "      <th>WAGEINCPCT</th>\n",
       "      <th>BUSSEFARMINCPCT</th>\n",
       "      <th>INTDIVINCPCT</th>\n",
       "      <th>KGINCPCT</th>\n",
       "      <th>SSRETINCPCT</th>\n",
       "      <th>TRANSFOTHINCPCT</th>\n",
       "      <th>PSAVINGPCT</th>\n",
       "      <th>LEVERAGEPCT</th>\n",
       "      <th>I</th>\n",
       "    </tr>\n",
       "  </thead>\n",
       "  <tbody>\n",
       "    <tr>\n",
       "      <th>0</th>\n",
       "      <td>1</td>\n",
       "      <td>11</td>\n",
       "      <td>11668.134198</td>\n",
       "      <td>47</td>\n",
       "      <td>3</td>\n",
       "      <td>12</td>\n",
       "      <td>2</td>\n",
       "      <td>1</td>\n",
       "      <td>0</td>\n",
       "      <td>2</td>\n",
       "      <td>...</td>\n",
       "      <td>-21.052632</td>\n",
       "      <td>-32.931828</td>\n",
       "      <td>0.0</td>\n",
       "      <td>15939.278937</td>\n",
       "      <td>0.0</td>\n",
       "      <td>0.0</td>\n",
       "      <td>0.0</td>\n",
       "      <td>93.125197</td>\n",
       "      <td>270.403054</td>\n",
       "      <td>57</td>\n",
       "    </tr>\n",
       "    <tr>\n",
       "      <th>1</th>\n",
       "      <td>1</td>\n",
       "      <td>12</td>\n",
       "      <td>11823.456494</td>\n",
       "      <td>47</td>\n",
       "      <td>3</td>\n",
       "      <td>12</td>\n",
       "      <td>2</td>\n",
       "      <td>1</td>\n",
       "      <td>0</td>\n",
       "      <td>2</td>\n",
       "      <td>...</td>\n",
       "      <td>-21.052632</td>\n",
       "      <td>-32.931828</td>\n",
       "      <td>0.0</td>\n",
       "      <td>15939.278937</td>\n",
       "      <td>0.0</td>\n",
       "      <td>0.0</td>\n",
       "      <td>0.0</td>\n",
       "      <td>93.125197</td>\n",
       "      <td>249.593620</td>\n",
       "      <td>57</td>\n",
       "    </tr>\n",
       "    <tr>\n",
       "      <th>2</th>\n",
       "      <td>1</td>\n",
       "      <td>13</td>\n",
       "      <td>11913.228354</td>\n",
       "      <td>47</td>\n",
       "      <td>3</td>\n",
       "      <td>12</td>\n",
       "      <td>2</td>\n",
       "      <td>1</td>\n",
       "      <td>0</td>\n",
       "      <td>2</td>\n",
       "      <td>...</td>\n",
       "      <td>-50.000000</td>\n",
       "      <td>-32.931828</td>\n",
       "      <td>0.0</td>\n",
       "      <td>15939.278937</td>\n",
       "      <td>0.0</td>\n",
       "      <td>0.0</td>\n",
       "      <td>0.0</td>\n",
       "      <td>93.125197</td>\n",
       "      <td>209.233358</td>\n",
       "      <td>57</td>\n",
       "    </tr>\n",
       "    <tr>\n",
       "      <th>3</th>\n",
       "      <td>1</td>\n",
       "      <td>14</td>\n",
       "      <td>11929.394266</td>\n",
       "      <td>47</td>\n",
       "      <td>3</td>\n",
       "      <td>12</td>\n",
       "      <td>2</td>\n",
       "      <td>1</td>\n",
       "      <td>0</td>\n",
       "      <td>2</td>\n",
       "      <td>...</td>\n",
       "      <td>-33.333333</td>\n",
       "      <td>-32.931828</td>\n",
       "      <td>0.0</td>\n",
       "      <td>15939.278937</td>\n",
       "      <td>0.0</td>\n",
       "      <td>0.0</td>\n",
       "      <td>0.0</td>\n",
       "      <td>93.125197</td>\n",
       "      <td>209.273158</td>\n",
       "      <td>57</td>\n",
       "    </tr>\n",
       "    <tr>\n",
       "      <th>4</th>\n",
       "      <td>1</td>\n",
       "      <td>15</td>\n",
       "      <td>11917.722907</td>\n",
       "      <td>47</td>\n",
       "      <td>3</td>\n",
       "      <td>12</td>\n",
       "      <td>2</td>\n",
       "      <td>1</td>\n",
       "      <td>0</td>\n",
       "      <td>2</td>\n",
       "      <td>...</td>\n",
       "      <td>-38.596491</td>\n",
       "      <td>-32.931828</td>\n",
       "      <td>0.0</td>\n",
       "      <td>15939.278937</td>\n",
       "      <td>0.0</td>\n",
       "      <td>0.0</td>\n",
       "      <td>0.0</td>\n",
       "      <td>93.125197</td>\n",
       "      <td>232.690767</td>\n",
       "      <td>57</td>\n",
       "    </tr>\n",
       "    <tr>\n",
       "      <th>...</th>\n",
       "      <td>...</td>\n",
       "      <td>...</td>\n",
       "      <td>...</td>\n",
       "      <td>...</td>\n",
       "      <td>...</td>\n",
       "      <td>...</td>\n",
       "      <td>...</td>\n",
       "      <td>...</td>\n",
       "      <td>...</td>\n",
       "      <td>...</td>\n",
       "      <td>...</td>\n",
       "      <td>...</td>\n",
       "      <td>...</td>\n",
       "      <td>...</td>\n",
       "      <td>...</td>\n",
       "      <td>...</td>\n",
       "      <td>...</td>\n",
       "      <td>...</td>\n",
       "      <td>...</td>\n",
       "      <td>...</td>\n",
       "      <td>...</td>\n",
       "    </tr>\n",
       "    <tr>\n",
       "      <th>19280</th>\n",
       "      <td>4423</td>\n",
       "      <td>44231</td>\n",
       "      <td>8170.922241</td>\n",
       "      <td>50</td>\n",
       "      <td>3</td>\n",
       "      <td>16</td>\n",
       "      <td>4</td>\n",
       "      <td>2</td>\n",
       "      <td>0</td>\n",
       "      <td>1</td>\n",
       "      <td>...</td>\n",
       "      <td>-17.333333</td>\n",
       "      <td>-1.355234</td>\n",
       "      <td>-100.0</td>\n",
       "      <td>-33.183964</td>\n",
       "      <td>0.0</td>\n",
       "      <td>0.0</td>\n",
       "      <td>0.0</td>\n",
       "      <td>15.875118</td>\n",
       "      <td>-17.136606</td>\n",
       "      <td>57</td>\n",
       "    </tr>\n",
       "    <tr>\n",
       "      <th>19281</th>\n",
       "      <td>4423</td>\n",
       "      <td>44232</td>\n",
       "      <td>8261.846998</td>\n",
       "      <td>50</td>\n",
       "      <td>3</td>\n",
       "      <td>16</td>\n",
       "      <td>4</td>\n",
       "      <td>2</td>\n",
       "      <td>0</td>\n",
       "      <td>1</td>\n",
       "      <td>...</td>\n",
       "      <td>-14.864865</td>\n",
       "      <td>-1.355234</td>\n",
       "      <td>-100.0</td>\n",
       "      <td>-75.946227</td>\n",
       "      <td>0.0</td>\n",
       "      <td>0.0</td>\n",
       "      <td>0.0</td>\n",
       "      <td>15.875118</td>\n",
       "      <td>-14.697926</td>\n",
       "      <td>57</td>\n",
       "    </tr>\n",
       "    <tr>\n",
       "      <th>19282</th>\n",
       "      <td>4423</td>\n",
       "      <td>44233</td>\n",
       "      <td>8302.225025</td>\n",
       "      <td>50</td>\n",
       "      <td>3</td>\n",
       "      <td>16</td>\n",
       "      <td>4</td>\n",
       "      <td>2</td>\n",
       "      <td>0</td>\n",
       "      <td>1</td>\n",
       "      <td>...</td>\n",
       "      <td>-14.864865</td>\n",
       "      <td>-1.355234</td>\n",
       "      <td>-100.0</td>\n",
       "      <td>-10.466512</td>\n",
       "      <td>0.0</td>\n",
       "      <td>0.0</td>\n",
       "      <td>0.0</td>\n",
       "      <td>15.875118</td>\n",
       "      <td>-14.805179</td>\n",
       "      <td>57</td>\n",
       "    </tr>\n",
       "    <tr>\n",
       "      <th>19283</th>\n",
       "      <td>4423</td>\n",
       "      <td>44234</td>\n",
       "      <td>8335.386179</td>\n",
       "      <td>50</td>\n",
       "      <td>3</td>\n",
       "      <td>16</td>\n",
       "      <td>4</td>\n",
       "      <td>2</td>\n",
       "      <td>0</td>\n",
       "      <td>1</td>\n",
       "      <td>...</td>\n",
       "      <td>-17.333333</td>\n",
       "      <td>-1.355234</td>\n",
       "      <td>-100.0</td>\n",
       "      <td>-83.964151</td>\n",
       "      <td>0.0</td>\n",
       "      <td>0.0</td>\n",
       "      <td>0.0</td>\n",
       "      <td>15.875118</td>\n",
       "      <td>-17.020697</td>\n",
       "      <td>57</td>\n",
       "    </tr>\n",
       "    <tr>\n",
       "      <th>19284</th>\n",
       "      <td>4423</td>\n",
       "      <td>44235</td>\n",
       "      <td>8282.547273</td>\n",
       "      <td>50</td>\n",
       "      <td>3</td>\n",
       "      <td>16</td>\n",
       "      <td>4</td>\n",
       "      <td>2</td>\n",
       "      <td>0</td>\n",
       "      <td>1</td>\n",
       "      <td>...</td>\n",
       "      <td>-16.216216</td>\n",
       "      <td>0.471521</td>\n",
       "      <td>-100.0</td>\n",
       "      <td>-18.484436</td>\n",
       "      <td>0.0</td>\n",
       "      <td>0.0</td>\n",
       "      <td>0.0</td>\n",
       "      <td>15.875118</td>\n",
       "      <td>-16.014887</td>\n",
       "      <td>57</td>\n",
       "    </tr>\n",
       "  </tbody>\n",
       "</table>\n",
       "<p>19285 rows × 515 columns</p>\n",
       "</div>"
      ],
      "text/plain": [
       "        YY1     Y1         WGT09  AGE07  AGECL07  EDUC07  EDCL07  MARRIED07  \\\n",
       "0         1     11  11668.134198     47        3      12       2          1   \n",
       "1         1     12  11823.456494     47        3      12       2          1   \n",
       "2         1     13  11913.228354     47        3      12       2          1   \n",
       "3         1     14  11929.394266     47        3      12       2          1   \n",
       "4         1     15  11917.722907     47        3      12       2          1   \n",
       "...     ...    ...           ...    ...      ...     ...     ...        ...   \n",
       "19280  4423  44231   8170.922241     50        3      16       4          2   \n",
       "19281  4423  44232   8261.846998     50        3      16       4          2   \n",
       "19282  4423  44233   8302.225025     50        3      16       4          2   \n",
       "19283  4423  44234   8335.386179     50        3      16       4          2   \n",
       "19284  4423  44235   8282.547273     50        3      16       4          2   \n",
       "\n",
       "       KIDS07  LIFECL07  ...  NHMORTPCT  WAGEINCPCT  BUSSEFARMINCPCT  \\\n",
       "0           0         2  ... -21.052632  -32.931828              0.0   \n",
       "1           0         2  ... -21.052632  -32.931828              0.0   \n",
       "2           0         2  ... -50.000000  -32.931828              0.0   \n",
       "3           0         2  ... -33.333333  -32.931828              0.0   \n",
       "4           0         2  ... -38.596491  -32.931828              0.0   \n",
       "...       ...       ...  ...        ...         ...              ...   \n",
       "19280       0         1  ... -17.333333   -1.355234           -100.0   \n",
       "19281       0         1  ... -14.864865   -1.355234           -100.0   \n",
       "19282       0         1  ... -14.864865   -1.355234           -100.0   \n",
       "19283       0         1  ... -17.333333   -1.355234           -100.0   \n",
       "19284       0         1  ... -16.216216    0.471521           -100.0   \n",
       "\n",
       "       INTDIVINCPCT  KGINCPCT  SSRETINCPCT  TRANSFOTHINCPCT  PSAVINGPCT  \\\n",
       "0      15939.278937       0.0          0.0              0.0   93.125197   \n",
       "1      15939.278937       0.0          0.0              0.0   93.125197   \n",
       "2      15939.278937       0.0          0.0              0.0   93.125197   \n",
       "3      15939.278937       0.0          0.0              0.0   93.125197   \n",
       "4      15939.278937       0.0          0.0              0.0   93.125197   \n",
       "...             ...       ...          ...              ...         ...   \n",
       "19280    -33.183964       0.0          0.0              0.0   15.875118   \n",
       "19281    -75.946227       0.0          0.0              0.0   15.875118   \n",
       "19282    -10.466512       0.0          0.0              0.0   15.875118   \n",
       "19283    -83.964151       0.0          0.0              0.0   15.875118   \n",
       "19284    -18.484436       0.0          0.0              0.0   15.875118   \n",
       "\n",
       "       LEVERAGEPCT   I  \n",
       "0       270.403054  57  \n",
       "1       249.593620  57  \n",
       "2       209.233358  57  \n",
       "3       209.273158  57  \n",
       "4       232.690767  57  \n",
       "...            ...  ..  \n",
       "19280   -17.136606  57  \n",
       "19281   -14.697926  57  \n",
       "19282   -14.805179  57  \n",
       "19283   -17.020697  57  \n",
       "19284   -16.014887  57  \n",
       "\n",
       "[19285 rows x 515 columns]"
      ]
     },
     "execution_count": 5,
     "metadata": {},
     "output_type": "execute_result"
    }
   ],
   "source": [
    "dataset"
   ]
  },
  {
   "cell_type": "code",
   "execution_count": 15,
   "metadata": {},
   "outputs": [],
   "source": [
    "#Average stock index for normalizing the risky assets in 2009\n",
    "Average_SP500_2007=1478\n",
    "Average_SP500_2009=948\n",
    "\n",
    "#Risk Tolerance 2007\n",
    "dataset['RiskFree07']= dataset['LIQ07'] + dataset['CDS07'] + dataset['SAVBND07'] + dataset['CASHLI07']\n",
    "dataset['Risky07'] = dataset['NMMF07'] + dataset['STOCKS07'] + dataset['BOND07'] \n",
    "dataset['RT07'] = dataset['Risky07']/(dataset['Risky07']+dataset['RiskFree07'])\n",
    "\n",
    "#Risk Tolerance 2009\n",
    "dataset['RiskFree09']= dataset['LIQ09'] + dataset['CDS09'] + dataset['SAVBND09'] + dataset['CASHLI09']\n",
    "dataset['Risky09'] = dataset['NMMF09'] + dataset['STOCKS09'] + dataset['BOND09'] \n",
    "dataset['RT09'] = dataset['Risky09']/(dataset['Risky09']+dataset['RiskFree09'])*(Average_SP500_2009/Average_SP500_2007)"
   ]
  },
  {
   "cell_type": "code",
   "execution_count": 18,
   "metadata": {},
   "outputs": [
    {
     "data": {
      "text/html": [
       "<div>\n",
       "<style scoped>\n",
       "    .dataframe tbody tr th:only-of-type {\n",
       "        vertical-align: middle;\n",
       "    }\n",
       "\n",
       "    .dataframe tbody tr th {\n",
       "        vertical-align: top;\n",
       "    }\n",
       "\n",
       "    .dataframe thead th {\n",
       "        text-align: right;\n",
       "    }\n",
       "</style>\n",
       "<table border=\"1\" class=\"dataframe\">\n",
       "  <thead>\n",
       "    <tr style=\"text-align: right;\">\n",
       "      <th></th>\n",
       "      <th>YY1</th>\n",
       "      <th>Y1</th>\n",
       "      <th>WGT09</th>\n",
       "      <th>AGE07</th>\n",
       "      <th>AGECL07</th>\n",
       "      <th>EDUC07</th>\n",
       "      <th>EDCL07</th>\n",
       "      <th>MARRIED07</th>\n",
       "      <th>KIDS07</th>\n",
       "      <th>LIFECL07</th>\n",
       "      <th>...</th>\n",
       "      <th>TRANSFOTHINCPCT</th>\n",
       "      <th>PSAVINGPCT</th>\n",
       "      <th>LEVERAGEPCT</th>\n",
       "      <th>I</th>\n",
       "      <th>RiskFree07</th>\n",
       "      <th>Risky07</th>\n",
       "      <th>RT07</th>\n",
       "      <th>RiskFree09</th>\n",
       "      <th>Risky09</th>\n",
       "      <th>RT09</th>\n",
       "    </tr>\n",
       "  </thead>\n",
       "  <tbody>\n",
       "    <tr>\n",
       "      <th>0</th>\n",
       "      <td>1</td>\n",
       "      <td>11</td>\n",
       "      <td>11668.134198</td>\n",
       "      <td>47</td>\n",
       "      <td>3</td>\n",
       "      <td>12</td>\n",
       "      <td>2</td>\n",
       "      <td>1</td>\n",
       "      <td>0</td>\n",
       "      <td>2</td>\n",
       "      <td>...</td>\n",
       "      <td>0.0</td>\n",
       "      <td>93.125197</td>\n",
       "      <td>270.403054</td>\n",
       "      <td>57</td>\n",
       "      <td>7994.813847</td>\n",
       "      <td>0.0</td>\n",
       "      <td>0.0</td>\n",
       "      <td>16000</td>\n",
       "      <td>17000</td>\n",
       "      <td>0.330422</td>\n",
       "    </tr>\n",
       "    <tr>\n",
       "      <th>1</th>\n",
       "      <td>1</td>\n",
       "      <td>12</td>\n",
       "      <td>11823.456494</td>\n",
       "      <td>47</td>\n",
       "      <td>3</td>\n",
       "      <td>12</td>\n",
       "      <td>2</td>\n",
       "      <td>1</td>\n",
       "      <td>0</td>\n",
       "      <td>2</td>\n",
       "      <td>...</td>\n",
       "      <td>0.0</td>\n",
       "      <td>93.125197</td>\n",
       "      <td>249.593620</td>\n",
       "      <td>57</td>\n",
       "      <td>7994.813847</td>\n",
       "      <td>0.0</td>\n",
       "      <td>0.0</td>\n",
       "      <td>19000</td>\n",
       "      <td>18000</td>\n",
       "      <td>0.312036</td>\n",
       "    </tr>\n",
       "    <tr>\n",
       "      <th>2</th>\n",
       "      <td>1</td>\n",
       "      <td>13</td>\n",
       "      <td>11913.228354</td>\n",
       "      <td>47</td>\n",
       "      <td>3</td>\n",
       "      <td>12</td>\n",
       "      <td>2</td>\n",
       "      <td>1</td>\n",
       "      <td>0</td>\n",
       "      <td>2</td>\n",
       "      <td>...</td>\n",
       "      <td>0.0</td>\n",
       "      <td>93.125197</td>\n",
       "      <td>209.233358</td>\n",
       "      <td>57</td>\n",
       "      <td>7984.457871</td>\n",
       "      <td>0.0</td>\n",
       "      <td>0.0</td>\n",
       "      <td>13000</td>\n",
       "      <td>12000</td>\n",
       "      <td>0.307876</td>\n",
       "    </tr>\n",
       "    <tr>\n",
       "      <th>3</th>\n",
       "      <td>1</td>\n",
       "      <td>14</td>\n",
       "      <td>11929.394266</td>\n",
       "      <td>47</td>\n",
       "      <td>3</td>\n",
       "      <td>12</td>\n",
       "      <td>2</td>\n",
       "      <td>1</td>\n",
       "      <td>0</td>\n",
       "      <td>2</td>\n",
       "      <td>...</td>\n",
       "      <td>0.0</td>\n",
       "      <td>93.125197</td>\n",
       "      <td>209.273158</td>\n",
       "      <td>57</td>\n",
       "      <td>7984.457871</td>\n",
       "      <td>0.0</td>\n",
       "      <td>0.0</td>\n",
       "      <td>25000</td>\n",
       "      <td>13000</td>\n",
       "      <td>0.219429</td>\n",
       "    </tr>\n",
       "    <tr>\n",
       "      <th>4</th>\n",
       "      <td>1</td>\n",
       "      <td>15</td>\n",
       "      <td>11917.722907</td>\n",
       "      <td>47</td>\n",
       "      <td>3</td>\n",
       "      <td>12</td>\n",
       "      <td>2</td>\n",
       "      <td>1</td>\n",
       "      <td>0</td>\n",
       "      <td>2</td>\n",
       "      <td>...</td>\n",
       "      <td>0.0</td>\n",
       "      <td>93.125197</td>\n",
       "      <td>232.690767</td>\n",
       "      <td>57</td>\n",
       "      <td>7994.813847</td>\n",
       "      <td>0.0</td>\n",
       "      <td>0.0</td>\n",
       "      <td>17000</td>\n",
       "      <td>12000</td>\n",
       "      <td>0.265410</td>\n",
       "    </tr>\n",
       "  </tbody>\n",
       "</table>\n",
       "<p>5 rows × 521 columns</p>\n",
       "</div>"
      ],
      "text/plain": [
       "   YY1  Y1         WGT09  AGE07  AGECL07  EDUC07  EDCL07  MARRIED07  KIDS07  \\\n",
       "0    1  11  11668.134198     47        3      12       2          1       0   \n",
       "1    1  12  11823.456494     47        3      12       2          1       0   \n",
       "2    1  13  11913.228354     47        3      12       2          1       0   \n",
       "3    1  14  11929.394266     47        3      12       2          1       0   \n",
       "4    1  15  11917.722907     47        3      12       2          1       0   \n",
       "\n",
       "   LIFECL07  ...  TRANSFOTHINCPCT  PSAVINGPCT  LEVERAGEPCT   I   RiskFree07  \\\n",
       "0         2  ...              0.0   93.125197   270.403054  57  7994.813847   \n",
       "1         2  ...              0.0   93.125197   249.593620  57  7994.813847   \n",
       "2         2  ...              0.0   93.125197   209.233358  57  7984.457871   \n",
       "3         2  ...              0.0   93.125197   209.273158  57  7984.457871   \n",
       "4         2  ...              0.0   93.125197   232.690767  57  7994.813847   \n",
       "\n",
       "   Risky07  RT07  RiskFree09  Risky09      RT09  \n",
       "0      0.0   0.0       16000    17000  0.330422  \n",
       "1      0.0   0.0       19000    18000  0.312036  \n",
       "2      0.0   0.0       13000    12000  0.307876  \n",
       "3      0.0   0.0       25000    13000  0.219429  \n",
       "4      0.0   0.0       17000    12000  0.265410  \n",
       "\n",
       "[5 rows x 521 columns]"
      ]
     },
     "execution_count": 18,
     "metadata": {},
     "output_type": "execute_result"
    }
   ],
   "source": [
    "dataset2 = copy.deepcopy(dataset)  \n",
    "dataset.head()"
   ]
  },
  {
   "cell_type": "markdown",
   "metadata": {},
   "source": [
    "\n",
    "\n",
    "Let us compute the percentage change in risk tolerance between 2007 and 2009.\n"
   ]
  },
  {
   "cell_type": "code",
   "execution_count": 20,
   "metadata": {},
   "outputs": [],
   "source": [
    "dataset2['PercentageChange'] = np.abs(dataset2['RT09']/dataset2['RT07']-1)"
   ]
  },
  {
   "cell_type": "markdown",
   "metadata": {},
   "source": [
    "Checking for the rows with null or nan values and removing them.\n"
   ]
  },
  {
   "cell_type": "code",
   "execution_count": 21,
   "metadata": {},
   "outputs": [
    {
     "name": "stdout",
     "output_type": "stream",
     "text": [
      "Null Values = True\n"
     ]
    }
   ],
   "source": [
    "#Checking for any null values and removing the null values'''\n",
    "print('Null Values =',dataset2.isnull().values.any())"
   ]
  },
  {
   "cell_type": "code",
   "execution_count": 22,
   "metadata": {},
   "outputs": [
    {
     "name": "stdout",
     "output_type": "stream",
     "text": [
      "Null Values = False\n"
     ]
    }
   ],
   "source": [
    "# Drop the rows containing NA\n",
    "dataset2=dataset2.dropna(axis=0)\n",
    "\n",
    "dataset2=dataset2[~dataset2.isin([np.nan, np.inf, -np.inf]).any(1)]\n",
    "\n",
    "#Checking for any null values and removing the null values'''\n",
    "print('Null Values =',dataset2.isnull().values.any())"
   ]
  },
  {
   "cell_type": "markdown",
   "metadata": {},
   "source": [
    "Let us plot the risk tolerance of 2007 and 2009."
   ]
  },
  {
   "cell_type": "code",
   "execution_count": 23,
   "metadata": {},
   "outputs": [
    {
     "data": {
      "text/plain": [
       "<matplotlib.axes._subplots.AxesSubplot at 0x1dd56885860>"
      ]
     },
     "execution_count": 23,
     "metadata": {},
     "output_type": "execute_result"
    },
    {
     "data": {
      "image/png": "[encoded data removed]",
      "text/plain": [
       "<Figure size 432x288 with 1 Axes>"
      ]
     },
     "metadata": {
      "needs_background": "light"
     },
     "output_type": "display_data"
    }
   ],
   "source": [
    "sns.distplot(dataset2['RT07'], hist=True, kde=False, \n",
    "             bins=int(180/5), color = 'blue',\n",
    "             hist_kws={'edgecolor':'black'})"
   ]
  },
  {
   "cell_type": "markdown",
   "metadata": {},
   "source": [
    "Looking at the risk tolerance of 2007, we see that a significant number of individuals had risk tolerance close to one. Meaning the investments were more skewed towards the risky assets as compared to the riskless assets. Now let us look at the risk tolerance of 2009."
   ]
  },
  {
   "cell_type": "code",
   "execution_count": 24,
   "metadata": {},
   "outputs": [
    {
     "data": {
      "text/plain": [
       "<matplotlib.axes._subplots.AxesSubplot at 0x1dd4899f2e8>"
      ]
     },
     "execution_count": 24,
     "metadata": {},
     "output_type": "execute_result"
    },
    {
     "data": {
      "image/png": "[encoded data removed]",
      "text/plain": [
       "<Figure size 432x288 with 1 Axes>"
      ]
     },
     "metadata": {
      "needs_background": "light"
     },
     "output_type": "display_data"
    }
   ],
   "source": [
    "sns.distplot(dataset2['RT09'], hist=True, kde=False, \n",
    "             bins=int(180/5), color = 'purple',\n",
    "             hist_kws={'edgecolor':'black'})"
   ]
  },
  {
   "cell_type": "markdown",
   "metadata": {},
   "source": [
    "Clearly, the behavior of the individuals reversed in 2009 after crisis and majority of the investment was in risk free assets. Overall risk tolerance decreased, which is shown by majority of risk tolerance being close to 0 in 2009.\n",
    "\n",
    "In the next step we pick the intelligent investors whose risk tolerance change between 2007 and 2009 was less than 10%\n",
    "Now we will pick the **Intelligent Investors**."
   ]
  },
  {
   "cell_type": "code",
   "execution_count": 25,
   "metadata": {},
   "outputs": [],
   "source": [
    "dataset3 = copy.deepcopy(dataset2)"
   ]
  },
  {
   "cell_type": "code",
   "execution_count": 26,
   "metadata": {},
   "outputs": [],
   "source": [
    "dataset3 = dataset3[dataset3['PercentageChange']<=.1]"
   ]
  },
  {
   "cell_type": "markdown",
   "metadata": {},
   "source": [
    "We assign the **True Risk Tolerance** as the *average risk tolerance of these intelligent investors between 2007 and 2009.* This is the predicted variable for this dossier. \n",
    "\n",
    "**The purpose would be to predict the true risk tolerance of an individuals given the demographic, financial and willingness to take risk related features.**"
   ]
  },
  {
   "cell_type": "code",
   "execution_count": 27,
   "metadata": {},
   "outputs": [],
   "source": [
    "dataset3['TrueRiskTolerance'] = (dataset3['RT07'] + dataset3['RT09'])/2"
   ]
  },
  {
   "cell_type": "code",
   "execution_count": 28,
   "metadata": {},
   "outputs": [],
   "source": [
    "##Let us drop other labels which might not be needed for the prediction.\n",
    "\n",
    "dataset3.drop(labels=['RT07', 'RT09'], axis=1, inplace=True)\n",
    "dataset3.drop(labels=['PercentageChange'], axis=1, inplace=True)"
   ]
  },
  {
   "cell_type": "markdown",
   "metadata": {},
   "source": [
    "### Feature Selection-Limit the Feature Space\n",
    "\n",
    "#### Features elimination"
   ]
  },
  {
   "cell_type": "markdown",
   "metadata": {},
   "source": [
    "Looking at the entire data, we have more than 500 features in the dataset. However,\n",
    "academic literature and industry practice indicate risk tolerance is heavily influenced\n",
    "by investor demographic, financial, and behavioural attributes, such as age, current\n",
    "income, net worth, and willingness to take risk. All these attributes were available in\n",
    "the dataset and are summarized below. These attributes are used as\n",
    "features to predict investors’ risk tolerance."
   ]
  },
  {
   "cell_type": "markdown",
   "metadata": {},
   "source": [
    "In order to filter the features further we do the following:\n",
    "\n",
    "Check the description in the Data Dictionary (https://www.federalreserve.gov/econres/files/codebk2009p.txt, https://www.federalreserve.gov/econresdata/scf/files/fedstables.macro.txt)and only keep the features that are intuitive The description is as follows:\n",
    "\n",
    "1. AGE: There are 6 age categories, where 1 represents age less than 35 and 6 represents age more than 75.\n",
    "2. EDUC: There are 4 education categories, where 1 represents no high school and 4 represents college degree.\n",
    "3. MARRIED: It represents marital status. There are two categories where 1 represents married and 2 represents unmarried.\n",
    "\n",
    "4. OCCU: It represents occupation category. 1 represents managerial category and 4 represents unemployed.\n",
    "5. KIDS: It represents number of kids.\n",
    "6. NWCAT: It represents net worth category. There are 5 categories, where 1 net worth less than 25 percentile and 5 represents net worth more than 90th percentile.\n",
    "    \n",
    "7. INCCL: It represents income category. There are 5 categories, where 1 income less than 10,000 and 5 represents net worth more than 100,000\n",
    "8. RISK: It represents the willingness to take risk on a scale of 1 to 4, where 1 represents highest level of willingness to take risk.\n",
    "\n",
    "   \n",
    "Keep only the intuitive factors as of 2007 only and remove all the intermediate features and features related to 2009, as the variables of 2007 are the only ones required for predicting the risk tolerance.\n"
   ]
  },
  {
   "cell_type": "code",
   "execution_count": 29,
   "metadata": {},
   "outputs": [],
   "source": [
    "keep_list2 = ['AGE07','EDCL07','MARRIED07','KIDS07','OCCAT107','INCOME07','RISK07','NETWORTH07','TrueRiskTolerance'\n",
    "]\n",
    "drop_list2 = [col for col in dataset3.columns if col not in keep_list2]"
   ]
  },
  {
   "cell_type": "code",
   "execution_count": 30,
   "metadata": {},
   "outputs": [],
   "source": [
    "dataset3.drop(labels=drop_list2, axis=1, inplace=True)"
   ]
  },
  {
   "cell_type": "code",
   "execution_count": 32,
   "metadata": {},
   "outputs": [
    {
     "data": {
      "text/html": [
       "<div>\n",
       "<style scoped>\n",
       "    .dataframe tbody tr th:only-of-type {\n",
       "        vertical-align: middle;\n",
       "    }\n",
       "\n",
       "    .dataframe tbody tr th {\n",
       "        vertical-align: top;\n",
       "    }\n",
       "\n",
       "    .dataframe thead th {\n",
       "        text-align: right;\n",
       "    }\n",
       "</style>\n",
       "<table border=\"1\" class=\"dataframe\">\n",
       "  <thead>\n",
       "    <tr style=\"text-align: right;\">\n",
       "      <th></th>\n",
       "      <th>AGE07</th>\n",
       "      <th>EDCL07</th>\n",
       "      <th>MARRIED07</th>\n",
       "      <th>KIDS07</th>\n",
       "      <th>OCCAT107</th>\n",
       "      <th>INCOME07</th>\n",
       "      <th>RISK07</th>\n",
       "      <th>NETWORTH07</th>\n",
       "      <th>TrueRiskTolerance</th>\n",
       "    </tr>\n",
       "  </thead>\n",
       "  <tbody>\n",
       "    <tr>\n",
       "      <th>60</th>\n",
       "      <td>77</td>\n",
       "      <td>2</td>\n",
       "      <td>1</td>\n",
       "      <td>0</td>\n",
       "      <td>3</td>\n",
       "      <td>3.141680e+04</td>\n",
       "      <td>4</td>\n",
       "      <td>2.152490e+05</td>\n",
       "      <td>0.199511</td>\n",
       "    </tr>\n",
       "    <tr>\n",
       "      <th>425</th>\n",
       "      <td>55</td>\n",
       "      <td>4</td>\n",
       "      <td>1</td>\n",
       "      <td>1</td>\n",
       "      <td>2</td>\n",
       "      <td>2.779588e+06</td>\n",
       "      <td>2</td>\n",
       "      <td>4.964759e+07</td>\n",
       "      <td>0.641458</td>\n",
       "    </tr>\n",
       "    <tr>\n",
       "      <th>1122</th>\n",
       "      <td>85</td>\n",
       "      <td>4</td>\n",
       "      <td>1</td>\n",
       "      <td>0</td>\n",
       "      <td>2</td>\n",
       "      <td>3.727417e+05</td>\n",
       "      <td>4</td>\n",
       "      <td>5.837768e+07</td>\n",
       "      <td>0.589943</td>\n",
       "    </tr>\n",
       "    <tr>\n",
       "      <th>1190</th>\n",
       "      <td>40</td>\n",
       "      <td>2</td>\n",
       "      <td>1</td>\n",
       "      <td>3</td>\n",
       "      <td>1</td>\n",
       "      <td>5.324882e+04</td>\n",
       "      <td>3</td>\n",
       "      <td>2.688929e+05</td>\n",
       "      <td>0.434127</td>\n",
       "    </tr>\n",
       "    <tr>\n",
       "      <th>1228</th>\n",
       "      <td>70</td>\n",
       "      <td>2</td>\n",
       "      <td>1</td>\n",
       "      <td>0</td>\n",
       "      <td>2</td>\n",
       "      <td>3.716767e+04</td>\n",
       "      <td>3</td>\n",
       "      <td>2.015066e+06</td>\n",
       "      <td>0.228218</td>\n",
       "    </tr>\n",
       "    <tr>\n",
       "      <th>...</th>\n",
       "      <td>...</td>\n",
       "      <td>...</td>\n",
       "      <td>...</td>\n",
       "      <td>...</td>\n",
       "      <td>...</td>\n",
       "      <td>...</td>\n",
       "      <td>...</td>\n",
       "      <td>...</td>\n",
       "      <td>...</td>\n",
       "    </tr>\n",
       "    <tr>\n",
       "      <th>19190</th>\n",
       "      <td>53</td>\n",
       "      <td>4</td>\n",
       "      <td>1</td>\n",
       "      <td>0</td>\n",
       "      <td>1</td>\n",
       "      <td>1.810460e+05</td>\n",
       "      <td>2</td>\n",
       "      <td>7.580575e+05</td>\n",
       "      <td>0.352094</td>\n",
       "    </tr>\n",
       "    <tr>\n",
       "      <th>19191</th>\n",
       "      <td>53</td>\n",
       "      <td>4</td>\n",
       "      <td>1</td>\n",
       "      <td>0</td>\n",
       "      <td>1</td>\n",
       "      <td>1.821109e+05</td>\n",
       "      <td>2</td>\n",
       "      <td>7.570219e+05</td>\n",
       "      <td>0.357442</td>\n",
       "    </tr>\n",
       "    <tr>\n",
       "      <th>19192</th>\n",
       "      <td>53</td>\n",
       "      <td>4</td>\n",
       "      <td>1</td>\n",
       "      <td>0</td>\n",
       "      <td>1</td>\n",
       "      <td>1.810460e+05</td>\n",
       "      <td>2</td>\n",
       "      <td>7.580575e+05</td>\n",
       "      <td>0.352094</td>\n",
       "    </tr>\n",
       "    <tr>\n",
       "      <th>19193</th>\n",
       "      <td>53</td>\n",
       "      <td>4</td>\n",
       "      <td>1</td>\n",
       "      <td>0</td>\n",
       "      <td>1</td>\n",
       "      <td>1.810460e+05</td>\n",
       "      <td>2</td>\n",
       "      <td>7.580575e+05</td>\n",
       "      <td>0.352094</td>\n",
       "    </tr>\n",
       "    <tr>\n",
       "      <th>19194</th>\n",
       "      <td>53</td>\n",
       "      <td>4</td>\n",
       "      <td>1</td>\n",
       "      <td>0</td>\n",
       "      <td>1</td>\n",
       "      <td>1.821109e+05</td>\n",
       "      <td>2</td>\n",
       "      <td>7.580575e+05</td>\n",
       "      <td>0.352094</td>\n",
       "    </tr>\n",
       "  </tbody>\n",
       "</table>\n",
       "<p>355 rows × 9 columns</p>\n",
       "</div>"
      ],
      "text/plain": [
       "       AGE07  EDCL07  MARRIED07  KIDS07  OCCAT107      INCOME07  RISK07  \\\n",
       "60        77       2          1       0         3  3.141680e+04       4   \n",
       "425       55       4          1       1         2  2.779588e+06       2   \n",
       "1122      85       4          1       0         2  3.727417e+05       4   \n",
       "1190      40       2          1       3         1  5.324882e+04       3   \n",
       "1228      70       2          1       0         2  3.716767e+04       3   \n",
       "...      ...     ...        ...     ...       ...           ...     ...   \n",
       "19190     53       4          1       0         1  1.810460e+05       2   \n",
       "19191     53       4          1       0         1  1.821109e+05       2   \n",
       "19192     53       4          1       0         1  1.810460e+05       2   \n",
       "19193     53       4          1       0         1  1.810460e+05       2   \n",
       "19194     53       4          1       0         1  1.821109e+05       2   \n",
       "\n",
       "         NETWORTH07  TrueRiskTolerance  \n",
       "60     2.152490e+05           0.199511  \n",
       "425    4.964759e+07           0.641458  \n",
       "1122   5.837768e+07           0.589943  \n",
       "1190   2.688929e+05           0.434127  \n",
       "1228   2.015066e+06           0.228218  \n",
       "...             ...                ...  \n",
       "19190  7.580575e+05           0.352094  \n",
       "19191  7.570219e+05           0.357442  \n",
       "19192  7.580575e+05           0.352094  \n",
       "19193  7.580575e+05           0.352094  \n",
       "19194  7.580575e+05           0.352094  \n",
       "\n",
       "[355 rows x 9 columns]"
      ]
     },
     "execution_count": 32,
     "metadata": {},
     "output_type": "execute_result"
    }
   ],
   "source": [
    "dataset3"
   ]
  },
  {
   "cell_type": "markdown",
   "metadata": {},
   "source": [
    "Let us look at the correlation among the features.\n"
   ]
  },
  {
   "cell_type": "code",
   "execution_count": 31,
   "metadata": {},
   "outputs": [
    {
     "data": {
      "text/plain": [
       "<matplotlib.axes._subplots.AxesSubplot at 0x1dd43868748>"
      ]
     },
     "execution_count": 31,
     "metadata": {},
     "output_type": "execute_result"
    },
    {
     "data": {
      "image/png": "[encoded data removed]",
      "text/plain": [
       "<Figure size 1080x1080 with 2 Axes>"
      ]
     },
     "metadata": {
      "needs_background": "light"
     },
     "output_type": "display_data"
    }
   ],
   "source": [
    "# correlation\n",
    "correlation = dataset3.corr()\n",
    "plt.figure(figsize=(15,15))\n",
    "plt.title('Correlation Matrix')\n",
    "sns.heatmap(correlation, vmax=1, square=True,annot=True,cmap='cubehelix')"
   ]
  },
  {
   "cell_type": "code",
   "execution_count": 33,
   "metadata": {},
   "outputs": [
    {
     "data": {
      "text/plain": [
       "<Figure size 1080x1080 with 0 Axes>"
      ]
     },
     "metadata": {},
     "output_type": "display_data"
    },
    {
     "data": {
      "image/png": "[encoded data removed]",
      "text/plain": [
       "<Figure size 864x864 with 81 Axes>"
      ]
     },
     "metadata": {
      "needs_background": "light"
     },
     "output_type": "display_data"
    }
   ],
   "source": [
    "# Scatterplot Matrix\n",
    "from pandas.plotting import scatter_matrix\n",
    "plt.figure(figsize=(15,15))\n",
    "scatter_matrix(dataset3,figsize=(12,12))\n",
    "plt.show()\n"
   ]
  },
  {
   "cell_type": "markdown",
   "metadata": {},
   "source": [
    "\n",
    "\n",
    "Looking at the correlation chart above, networth and income are positively correlated with the risk tolerance. With more number of kids and marriage the risk tolerance decreases. *As the willingness to take risk decreases the risk tolerance decreases. With age there is a positive relationship of the risk tolerance.*\n",
    "\n",
    "As per the paper \"Does Risk Tolerance Decrease With Age?(Hui Wang1,Sherman Hanna)\", Relative risk aversion decreases as people age (i.e., the proportion of net wealth invested in risky assets increases as people age) when other variables are held constant. Therefore, risk tolerance increases with age.\n",
    "\n",
    "So, in summary all the variables and their relationship with risk tolerance seems intuitive."
   ]
  },
  {
   "cell_type": "markdown",
   "metadata": {},
   "source": [
    "### Evaluate Algorithms and Models\n",
    "\n",
    "Let us evaluate the algorithms and the models."
   ]
  },
  {
   "cell_type": "code",
   "execution_count": 34,
   "metadata": {},
   "outputs": [],
   "source": [
    "# split out validation dataset for the end\n",
    "Y= dataset3[\"TrueRiskTolerance\"]\n",
    "X = dataset3.loc[:, dataset3.columns != 'TrueRiskTolerance']\n",
    "# scaler = StandardScaler().fit(X)\n",
    "# rescaledX = scaler.transform(X)\n",
    "validation_size = 0.2\n",
    "seed = 3\n",
    "X_train, X_validation, Y_train, Y_validation = train_test_split(X, Y, test_size=validation_size, random_state=seed)"
   ]
  },
  {
   "cell_type": "code",
   "execution_count": 35,
   "metadata": {},
   "outputs": [],
   "source": [
    "# test options for regression\n",
    "num_folds = 10\n",
    "#scoring = 'neg_mean_squared_error'\n",
    "#scoring ='neg_mean_absolute_error'\n",
    "scoring = 'r2'"
   ]
  },
  {
   "cell_type": "markdown",
   "metadata": {},
   "source": [
    "#### Compare Models and Algorithms\n",
    "Regression Models"
   ]
  },
  {
   "cell_type": "code",
   "execution_count": 37,
   "metadata": {},
   "outputs": [],
   "source": [
    "# spot check the algorithms\n",
    "models = []\n",
    "models.append(('LR', LinearRegression()))\n",
    "models.append(('LASSO', Lasso()))\n",
    "models.append(('EN', ElasticNet()))\n",
    "models.append(('KNN', KNeighborsRegressor()))\n",
    "models.append(('CART', DecisionTreeRegressor()))\n",
    "models.append(('SVR', SVR()))\n",
    "#Neural Network\n",
    "#models.append(('MLP', MLPRegressor()))\n",
    "#Ensable Models \n",
    "# Boosting methods\n",
    "models.append(('ABR', AdaBoostRegressor()))\n",
    "models.append(('GBR', GradientBoostingRegressor()))\n",
    "# Bagging methods\n",
    "models.append(('RFR', RandomForestRegressor()))\n",
    "models.append(('ETR', ExtraTreesRegressor()))\n"
   ]
  },
  {
   "cell_type": "markdown",
   "metadata": {},
   "source": [
    "K-folds cross validation"
   ]
  },
  {
   "cell_type": "code",
   "execution_count": 40,
   "metadata": {},
   "outputs": [
    {
     "name": "stdout",
     "output_type": "stream",
     "text": [
      "LR: -0.105127 (0.103969)\n",
      "LASSO: -0.023692 (0.118324)\n",
      "EN: -0.031108 (0.117770)\n",
      "KNN: -0.409457 (0.166871)\n",
      "CART: -0.594662 (0.171557)\n",
      "SVR: -0.106180 (0.106362)\n",
      "ABR: -0.386444 (0.086290)\n",
      "GBR: -0.651666 (0.104657)\n",
      "RFR: -0.700821 (0.070667)\n",
      "ETR: -0.759926 (0.118951)\n"
     ]
    }
   ],
   "source": [
    "results = []\n",
    "names = []\n",
    "for name, model in models:\n",
    "    kfold = KFold(n_splits=num_folds, random_state=seed)\n",
    "    #converted mean square error to positive. The lower the beter\n",
    "    cv_results = -1* cross_val_score(model, X_train, Y_train, cv=kfold, scoring=scoring)\n",
    "    results.append(cv_results)\n",
    "    names.append(name)\n",
    "    msg = \"%s: %f (%f)\" % (name, cv_results.mean(), cv_results.std())\n",
    "    print(msg)"
   ]
  },
  {
   "cell_type": "markdown",
   "metadata": {},
   "source": [
    "#### Algorithm comparison"
   ]
  },
  {
   "cell_type": "code",
   "execution_count": 41,
   "metadata": {},
   "outputs": [
    {
     "data": {
      "image/png": "[encoded data removed]",
      "text/plain": [
       "<Figure size 1080x576 with 1 Axes>"
      ]
     },
     "metadata": {
      "needs_background": "light"
     },
     "output_type": "display_data"
    }
   ],
   "source": [
    "# compare algorithms\n",
    "fig = plt.figure()\n",
    "fig.suptitle('Algorithm Comparison')\n",
    "ax = fig.add_subplot(111)\n",
    "plt.boxplot(results)\n",
    "ax.set_xticklabels(names)\n",
    "fig.set_size_inches(15,8)\n",
    "plt.show()"
   ]
  },
  {
   "cell_type": "markdown",
   "metadata": {},
   "source": [
    "The non linear models perform better than the linear models, which means that a non linear relationship between the risk tolerance and the difference variables use to predict it. Given random forest regression is one of the best methods, we use it for further grid search."
   ]
  },
  {
   "cell_type": "markdown",
   "metadata": {},
   "source": [
    "### Model Tuning and Grid Search\n",
    "\n"
   ]
  },
  {
   "cell_type": "code",
   "execution_count": 43,
   "metadata": {},
   "outputs": [
    {
     "name": "stdout",
     "output_type": "stream",
     "text": [
      "Best: 0.738440 using {'n_estimators': 50}\n",
      "0.738440 (0.084927) with: {'n_estimators': 50}\n",
      "0.715611 (0.088540) with: {'n_estimators': 100}\n",
      "0.727756 (0.085025) with: {'n_estimators': 150}\n",
      "0.735676 (0.081626) with: {'n_estimators': 200}\n",
      "0.733013 (0.085490) with: {'n_estimators': 250}\n",
      "0.732491 (0.082082) with: {'n_estimators': 300}\n",
      "0.728702 (0.085524) with: {'n_estimators': 350}\n",
      "0.735499 (0.087718) with: {'n_estimators': 400}\n"
     ]
    }
   ],
   "source": [
    "###Given that the Random Forest is the best model, Grid Search is performed on Random Forest.\n",
    "\n",
    "'''\n",
    "n_estimators : integer, optional (default=10)\n",
    "    The number of trees in the forest.\n",
    "'''\n",
    "param_grid = {'n_estimators': [50,100,150,200,250,300,350,400]}\n",
    "model = RandomForestRegressor()\n",
    "kfold = KFold(n_splits=num_folds, random_state=seed)\n",
    "grid = GridSearchCV(estimator=model, param_grid=param_grid, scoring=scoring, cv=kfold)\n",
    "grid_result = grid.fit(X_train, Y_train)\n",
    "print(\"Best: %f using %s\" % (grid_result.best_score_, grid_result.best_params_))\n",
    "means = grid_result.cv_results_['mean_test_score']\n",
    "stds = grid_result.cv_results_['std_test_score']\n",
    "params = grid_result.cv_results_['params']\n",
    "for mean, stdev, param in zip(means, stds, params):\n",
    "    print(\"%f (%f) with: %r\" % (mean, stdev, param))"
   ]
  },
  {
   "cell_type": "markdown",
   "metadata": {},
   "source": [
    "Random forest with number of estimators 50, is the best model after grid search.\n"
   ]
  },
  {
   "cell_type": "markdown",
   "metadata": {},
   "source": [
    "### Results"
   ]
  },
  {
   "cell_type": "code",
   "execution_count": 44,
   "metadata": {},
   "outputs": [
    {
     "data": {
      "text/plain": [
       "RandomForestRegressor(bootstrap=True, criterion='mse', max_depth=None,\n",
       "                      max_features='auto', max_leaf_nodes=None,\n",
       "                      min_impurity_decrease=0.0, min_impurity_split=None,\n",
       "                      min_samples_leaf=1, min_samples_split=2,\n",
       "                      min_weight_fraction_leaf=0.0, n_estimators=250,\n",
       "                      n_jobs=None, oob_score=False, random_state=None,\n",
       "                      verbose=0, warm_start=False)"
      ]
     },
     "execution_count": 44,
     "metadata": {},
     "output_type": "execute_result"
    }
   ],
   "source": [
    "# prepare model\n",
    "model = RandomForestRegressor(n_estimators = 250)\n",
    "model.fit(X_train, Y_train)"
   ]
  },
  {
   "cell_type": "code",
   "execution_count": 46,
   "metadata": {},
   "outputs": [
    {
     "name": "stdout",
     "output_type": "stream",
     "text": [
      "0.9622238126060929\n"
     ]
    }
   ],
   "source": [
    "from sklearn.metrics import r2_score\n",
    "predictions_train = model.predict(X_train)\n",
    "print(r2_score(Y_train, predictions_train))"
   ]
  },
  {
   "cell_type": "code",
   "execution_count": 55,
   "metadata": {},
   "outputs": [
    {
     "name": "stdout",
     "output_type": "stream",
     "text": [
      "Mean square error is :\n",
      "0.007572030007141362\n",
      "\n",
      "\n",
      "R2 score is :\n",
      "0.7678811590408414\n"
     ]
    }
   ],
   "source": [
    "# estimate accuracy on validation set\n",
    "# transform the validation dataset\n",
    "from sklearn.metrics import mean_squared_error\n",
    "from sklearn.metrics import r2_score\n",
    "#rescaledValidationX = scaler.transform(X_validation)\n",
    "predictions = model.predict(X_validation)\n",
    "\n",
    "print(\"Mean square error is :\")\n",
    "print(mean_squared_error(Y_validation, predictions))\n",
    "print(\"\\n\")\n",
    "print(\"R2 score is :\")\n",
    "print(r2_score(Y_validation, predictions))"
   ]
  },
  {
   "cell_type": "markdown",
   "metadata": {},
   "source": [
    "From the mean square error and R2 shown above for the test set, the results look good."
   ]
  },
  {
   "cell_type": "markdown",
   "metadata": {},
   "source": [
    "### Feature Importance and Features Intuition\n",
    "\n",
    "Looking at the details above Random forest be worthy of further study. Let us look into the Feature Importance of the RF model"
   ]
  },
  {
   "cell_type": "code",
   "execution_count": 56,
   "metadata": {},
   "outputs": [
    {
     "name": "stdout",
     "output_type": "stream",
     "text": [
      "[0.21650213 0.02508528 0.01588967 0.03934631 0.02452193 0.247332\n",
      " 0.0507033  0.38061939]\n"
     ]
    },
    {
     "data": {
      "image/png": "[encoded data removed]",
      "text/plain": [
       "<Figure size 432x288 with 1 Axes>"
      ]
     },
     "metadata": {
      "needs_background": "light"
     },
     "output_type": "display_data"
    }
   ],
   "source": [
    "import pandas as pd\n",
    "import numpy as np\n",
    "model = RandomForestRegressor(n_estimators= 200,n_jobs=-1)\n",
    "model.fit(X_train,Y_train)\n",
    "print(model.feature_importances_) #use inbuilt class feature_importances of tree based classifiers\n",
    "#plot graph of feature importances for better visualization\n",
    "feat_importances = pd.Series(model.feature_importances_, index=X.columns)\n",
    "feat_importances.nlargest(10).plot(kind='barh')\n",
    "plt.show()\n"
   ]
  },
  {
   "cell_type": "markdown",
   "metadata": {},
   "source": [
    "From the chart above, income and networth followed by age and willingness to take risk are the key variables to decide the risk tolerance. These variables have been considered as the key variables to model the risk tolerance across several literature."
   ]
  },
  {
   "cell_type": "markdown",
   "metadata": {},
   "source": [
    "### Save Model for Later Use"
   ]
  },
  {
   "cell_type": "code",
   "execution_count": 57,
   "metadata": {},
   "outputs": [],
   "source": [
    "# Save Model Using Pickle\n",
    "from pickle import dump\n",
    "from pickle import load\n",
    "\n",
    "# save the model to disk\n",
    "filename = 'finalized_model_dossier-3.sav'\n",
    "dump(model, open(filename, 'wb'))"
   ]
  },
  {
   "cell_type": "code",
   "execution_count": 58,
   "metadata": {},
   "outputs": [
    {
     "name": "stdout",
     "output_type": "stream",
     "text": [
      "0.7594208453021829\n",
      "0.007848016864710691\n"
     ]
    }
   ],
   "source": [
    "# load the model from disk\n",
    "loaded_model = load(open(filename, 'rb'))\n",
    "# estimate accuracy on validation set\n",
    "predictions = loaded_model.predict(X_validation)\n",
    "result = mean_squared_error(Y_validation, predictions)\n",
    "print(r2_score(Y_validation, predictions))\n",
    "print(result)\n"
   ]
  },
  {
   "cell_type": "markdown",
   "metadata": {},
   "source": [
    "### Conclusion:\n",
    "\n",
    "We showed that machine learning models might be able to objectively analyze the behavior of different investors in a changing market and attribute these changes to variables involved in determining risk appetite. With an increase in the volume of investor’s data and availability of rich machine learning infrastructure, such models might prove to be more useful.\n",
    "\n",
    "We saw that there is a non-linear relationship between the variables and the risk tolerance. Income and net worth followed by age and willingness to take risk are the key variables to decide the risk tolerance. These variables have been considered as the key variables to model the risk tolerance across several literature.\n"
   ]
  }
 ],
 "metadata": {
  "kernelspec": {
   "display_name": "Python 3",
   "language": "python",
   "name": "python3"
  },
  "language_info": {
   "codemirror_mode": {
    "name": "ipython",
    "version": 3
   },
   "file_extension": ".py",
   "mimetype": "text/x-python",
   "name": "python",
   "nbconvert_exporter": "python",
   "pygments_lexer": "ipython3",
   "version": "3.6.8"
  }
 },
 "nbformat": 4,
 "nbformat_minor": 2
}
